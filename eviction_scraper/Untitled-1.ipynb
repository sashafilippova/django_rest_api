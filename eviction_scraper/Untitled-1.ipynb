{
 "cells": [
  {
   "cell_type": "code",
   "execution_count": 5,
   "metadata": {},
   "outputs": [
    {
     "ename": "ModuleNotFoundError",
     "evalue": "No module named 'serializers'",
     "output_type": "error",
     "traceback": [
      "\u001b[0;31m---------------------------------------------------------------------------\u001b[0m",
      "\u001b[0;31mModuleNotFoundError\u001b[0m                       Traceback (most recent call last)",
      "\u001b[0;32m/var/folders/dk/pln7xlc14nzbppm5dwwxnl1h0000gn/T/ipykernel_53920/1556852166.py\u001b[0m in \u001b[0;36m<module>\u001b[0;34m\u001b[0m\n\u001b[1;32m      1\u001b[0m \u001b[0;32mfrom\u001b[0m \u001b[0mdjango\u001b[0m\u001b[0;34m.\u001b[0m\u001b[0mhttp\u001b[0m \u001b[0;32mimport\u001b[0m \u001b[0mJsonResponse\u001b[0m\u001b[0;34m\u001b[0m\u001b[0;34m\u001b[0m\u001b[0m\n\u001b[1;32m      2\u001b[0m \u001b[0;31m#from models import EvictionRecord\u001b[0m\u001b[0;34m\u001b[0m\u001b[0;34m\u001b[0m\u001b[0m\n\u001b[0;32m----> 3\u001b[0;31m \u001b[0;32mfrom\u001b[0m \u001b[0mserializers\u001b[0m \u001b[0;32mimport\u001b[0m \u001b[0mEvictionSerializer\u001b[0m\u001b[0;34m\u001b[0m\u001b[0;34m\u001b[0m\u001b[0m\n\u001b[0m",
      "\u001b[0;31mModuleNotFoundError\u001b[0m: No module named 'serializers'"
     ]
    }
   ],
   "source": [
    "from django.http import JsonResponse\n",
    "from models import EvictionRecord\n",
    "from serializers import EvictionSerializer"
   ]
  },
  {
   "cell_type": "code",
   "execution_count": 6,
   "metadata": {},
   "outputs": [],
   "source": [
    "import sys"
   ]
  },
  {
   "cell_type": "code",
   "execution_count": 7,
   "metadata": {},
   "outputs": [
    {
     "data": {
      "text/plain": [
       "['/Users/oleksandrafilippova/eviction_scraper',\n",
       " '/Users/oleksandrafilippova/.vscode/extensions/ms-toolsai.jupyter-2021.9.1101343141/pythonFiles',\n",
       " '/Users/oleksandrafilippova/.vscode/extensions/ms-toolsai.jupyter-2021.9.1101343141/pythonFiles/lib/python',\n",
       " '/Users/oleksandrafilippova/opt/anaconda3/envs/crawler_env/lib/python39.zip',\n",
       " '/Users/oleksandrafilippova/opt/anaconda3/envs/crawler_env/lib/python3.9',\n",
       " '/Users/oleksandrafilippova/opt/anaconda3/envs/crawler_env/lib/python3.9/lib-dynload',\n",
       " '',\n",
       " '/Users/oleksandrafilippova/opt/anaconda3/envs/crawler_env/lib/python3.9/site-packages',\n",
       " '/Users/oleksandrafilippova/opt/anaconda3/envs/crawler_env/lib/python3.9/site-packages/aeosa',\n",
       " '/Users/oleksandrafilippova/opt/anaconda3/envs/crawler_env/lib/python3.9/site-packages/IPython/extensions',\n",
       " '/Users/oleksandrafilippova/.ipython']"
      ]
     },
     "execution_count": 7,
     "metadata": {},
     "output_type": "execute_result"
    }
   ],
   "source": [
    "sys.path "
   ]
  },
  {
   "cell_type": "code",
   "execution_count": 11,
   "metadata": {},
   "outputs": [
    {
     "ename": "ImportError",
     "evalue": "attempted relative import with no known parent package",
     "output_type": "error",
     "traceback": [
      "\u001b[0;31m---------------------------------------------------------------------------\u001b[0m",
      "\u001b[0;31mImportError\u001b[0m                               Traceback (most recent call last)",
      "\u001b[0;32m/var/folders/dk/pln7xlc14nzbppm5dwwxnl1h0000gn/T/ipykernel_53920/2486190627.py\u001b[0m in \u001b[0;36m<module>\u001b[0;34m\u001b[0m\n\u001b[0;32m----> 1\u001b[0;31m \u001b[0;32mfrom\u001b[0m \u001b[0;34m.\u001b[0m\u001b[0mmodels\u001b[0m \u001b[0;32mimport\u001b[0m \u001b[0mEvictionRecord\u001b[0m\u001b[0;34m\u001b[0m\u001b[0;34m\u001b[0m\u001b[0m\n\u001b[0m",
      "\u001b[0;31mImportError\u001b[0m: attempted relative import with no known parent package"
     ]
    }
   ],
   "source": [
    "from .models import EvictionRecord"
   ]
  }
 ],
 "metadata": {
  "interpreter": {
   "hash": "e6978671ff9ffe7234cad69043c97f9f8f413e8ee30e0b93f52ae5f7af55af9f"
  },
  "kernelspec": {
   "display_name": "Python 3.9.12 64-bit ('crawler_env': conda)",
   "name": "python3"
  },
  "language_info": {
   "codemirror_mode": {
    "name": "ipython",
    "version": 3
   },
   "file_extension": ".py",
   "mimetype": "text/x-python",
   "name": "python",
   "nbconvert_exporter": "python",
   "pygments_lexer": "ipython3",
   "version": "3.9.12"
  },
  "orig_nbformat": 4
 },
 "nbformat": 4,
 "nbformat_minor": 2
}
